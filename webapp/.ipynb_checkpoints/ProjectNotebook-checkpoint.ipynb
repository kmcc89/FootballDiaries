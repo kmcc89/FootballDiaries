{
 "cells": [
  {
   "cell_type": "markdown",
   "metadata": {},
   "source": [
    "# Notebook for Football Diaries Project\n",
    "\n",
    "## Day 1\n",
    "\n",
    "Decided on project and discussed tasks to be carried out amongst team.\n",
    "\n",
    "### Main tasks for day 1:\n",
    "\n",
    "Discussion:\n",
    "    Create kanban chart to outline work to be carried out during week\n",
    "    Access data for project and examine it to get an idea of what we are working with\n",
    "    Think conceptually about project and break down into steps\n",
    "    Refresh flask framework projects worked on previously\n",
    "    Decide on the approach we will take to complete the project\n",
    "\n",
    "Results of discussion:\n",
    "    We are going to use Python and the Flask framework to develop app\n",
    "    MySQL database will be used\n",
    "    PyCharm IDE will be used for development \n",
    "    We will develop the app in a Windows OS environment\n",
    "        \n",
    "### Getting te data:\n",
    "\n",
    "The data to work with was made available for download from tutor's Linux server.\n",
    "Data was copied to local machine using Putty pscp tool.  \n",
    "The following command was run from the command line:\n",
    "    \n",
    "        pscp <username>@206.189.124.205:/tmp/football.zip C:<path to save data>\n",
    "        \n",
    "Data (CSV) was then opened in Excel for inspection.\n",
    "\n",
    "### Set up DB:\n",
    "\n",
    "Using phpMyAdmin a database was set up for the project.\n",
    "The data now had t be imported into tables in the database.\n",
    "Two approaches could be taken to achieve this.\n",
    "The first was to create the tables manually to match the data in the CSV files.  This would involve carefully inspecting the data in the files and running create table statements with the correct column names and data types before running LOAD DATA INFILE commands with specified parameters for spliting the data in the CSV files.\n",
    "\n",
    "The second approach was easier and involved using phpMyAdmin's bult in import feature.  This way the csv file can be uploaded and imported into an automatically generated table with appropriate fields.  A checkbox to ignore the first row which contains column names can be selected so they are not included in the data.\n",
    "*At this stage it was noticed that some data was missing from the dataset and lead to problems when importing the data - to allow for the data to be imported 0 values were inserted wherever values were missing.\n",
    "\n",
    "The tables had no primary keys at this stage so the following SQL command was run on each table to give a unique id to each entry.      \n",
    "\n",
    "        SQL to add a primary key field to table\n",
    "        ALTER TABLE `table 2` ADD id int NOT NULL AUTO_INCREMENT primary key;\n",
    "        \n",
    "Table names were changed using:\n",
    "        ALTER TABLE `table 2` RENAME TO results;\n",
    "    \n",
    "### Creating Flask App for project\n",
    "\n",
    "    Prerequisites:\n",
    "        1. Install Flask : py -3 -m pip install flask\n",
    "    \n",
    "    1. Create basic Flask app  "
   ]
  },
  {
   "cell_type": "code",
   "execution_count": null,
   "metadata": {},
   "outputs": [],
   "source": [
    "from flask import Flask\n",
    "\n",
    "app = Flask(__name__)\n",
    "\n",
    "@app.route('/')\n",
    "def hello() -> str:\n",
    "    return 'Hello from football diariesaaa!'\n",
    "\n",
    "app.run(debug=True)"
   ]
  },
  {
   "cell_type": "markdown",
   "metadata": {},
   "source": [
    "    Navigate to directory this file is stored in and run: py -3 FlaskFileName.py\n",
    "    \n",
    "    This starts the development server and the app can now be run by loading 127.0.0.1:5000 in browser"
   ]
  }
 ],
 "metadata": {
  "kernelspec": {
   "display_name": "Python 3",
   "language": "python",
   "name": "python3"
  },
  "language_info": {
   "codemirror_mode": {
    "name": "ipython",
    "version": 3
   },
   "file_extension": ".py",
   "mimetype": "text/x-python",
   "name": "python",
   "nbconvert_exporter": "python",
   "pygments_lexer": "ipython3",
   "version": "3.7.1"
  }
 },
 "nbformat": 4,
 "nbformat_minor": 2
}
